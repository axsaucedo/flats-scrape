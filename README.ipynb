{
 "cells": [
  {
   "cell_type": "code",
   "execution_count": 64,
   "id": "603c7826-6abc-44a4-91ce-689fa617448f",
   "metadata": {},
   "outputs": [],
   "source": [
    "import requests"
   ]
  },
  {
   "cell_type": "code",
   "execution_count": 65,
   "id": "f114f17f-7ef8-4204-9f02-4920304327e2",
   "metadata": {},
   "outputs": [],
   "source": [
    "from bs4 import BeautifulSoup"
   ]
  },
  {
   "cell_type": "code",
   "execution_count": 66,
   "id": "0c38e57f-26f1-4d5e-8026-36aec3b51dcf",
   "metadata": {},
   "outputs": [],
   "source": [
    "query = \"?from=2025-05-06&to=2026-04-03&scoreVariant=A&bbox=13.439029194122513%2C52.51287794429001%2C13.500998951202591%2C52.48638676462957&minSize=80\""
   ]
  },
  {
   "cell_type": "code",
   "execution_count": 67,
   "id": "d3ccae2f-04fa-4ba1-b27e-71f75aeb4296",
   "metadata": {},
   "outputs": [],
   "source": [
    "base = \"https://wunderflats.com/en/furnished-apartments/berlin\""
   ]
  },
  {
   "cell_type": "code",
   "execution_count": 68,
   "id": "04049b20-8e4b-41cf-9e25-3db73c3ac03f",
   "metadata": {},
   "outputs": [],
   "source": [
    "page = \"/1\""
   ]
  },
  {
   "cell_type": "code",
   "execution_count": 69,
   "id": "5c372a6f-d713-4a57-a254-411737114345",
   "metadata": {},
   "outputs": [],
   "source": [
    "url = f\"{base}{page}{query}\""
   ]
  },
  {
   "cell_type": "code",
   "execution_count": 70,
   "id": "5155e82f-9412-44fa-b76a-cad587431c94",
   "metadata": {},
   "outputs": [],
   "source": [
    "r = requests.get(url)"
   ]
  },
  {
   "cell_type": "code",
   "execution_count": 71,
   "id": "6b251de6-0e45-4ef5-8e52-7210a7fcae25",
   "metadata": {},
   "outputs": [
    {
     "data": {
      "text/plain": [
       "200"
      ]
     },
     "execution_count": 71,
     "metadata": {},
     "output_type": "execute_result"
    }
   ],
   "source": [
    "r.status_code"
   ]
  },
  {
   "cell_type": "code",
   "execution_count": 72,
   "id": "81c4f0a3-2e62-446b-b7a1-b238f8482dab",
   "metadata": {},
   "outputs": [],
   "source": [
    "soup = BeautifulSoup(r.text, \"html.parser\")"
   ]
  },
  {
   "cell_type": "code",
   "execution_count": 73,
   "id": "98dc6e77-11d2-4ba7-bdf2-930da3fde5ef",
   "metadata": {},
   "outputs": [],
   "source": [
    "listings = soup.select(\"div.ListingsList-item\")"
   ]
  },
  {
   "cell_type": "code",
   "execution_count": 74,
   "id": "b26a47ff-f3b2-4599-b6a9-f912cfc24540",
   "metadata": {},
   "outputs": [
    {
     "data": {
      "text/plain": [
       "30"
      ]
     },
     "execution_count": 74,
     "metadata": {},
     "output_type": "execute_result"
    }
   ],
   "source": [
    "len(listings)"
   ]
  },
  {
   "cell_type": "code",
   "execution_count": 75,
   "id": "91442b57-3f60-4b24-8616-2cc467933401",
   "metadata": {},
   "outputs": [],
   "source": [
    "listing = listings[0]"
   ]
  },
  {
   "cell_type": "code",
   "execution_count": 76,
   "id": "d8e171a0-c359-4083-8081-74a10e2e452a",
   "metadata": {},
   "outputs": [
    {
     "data": {
      "text/plain": [
       "<div class=\"ListingsList-item\"><article class=\"Listing\" data-groupid=\"HrDL1xpTGxel2ZI5kWG1F\" data-testid=\"Listing\"><div class=\"Listing-ImageGallery\"><a class=\"Listing-ImageGallery-link\" data-listing=\"678fa82534cc52b178eac06d\" href=\"/en/furnished-apartment/elegant-room-in-berlin-friedrichshain/678fa82534cc52b178eac06d?from=2025-05-06&amp;to=2026-04-03&amp;minSize=80&amp;dataLayerKey=Lrii3xCn6eMmv0IpPR_BV\" target=\"_blank\" title=\"Elegant room in Berlin Friedrichshain!\"></a><div class=\"ImageGallery\"><div><figure class=\"CoverImage ImageGallery-container\"><img alt=\"\" class=\"CoverImage CoverImage-image\" loading=\"eager\" sizes=\" (min-width: 680px) 370px, 90vw\" src=\"https://wunderflatsng.blob.core.windows.net/imagesproduction/lXb4VHHwd1U45FHKCfT1C-original\" srcset=\"https://wunderflatsng.blob.core.windows.net/imagesproduction/lXb4VHHwd1U45FHKCfT1C-thumbnail.jpg 370w, https://wunderflatsng.blob.core.windows.net/imagesproduction/lXb4VHHwd1U45FHKCfT1C-small.jpg 640w, https://wunderflatsng.blob.core.windows.net/imagesproduction/lXb4VHHwd1U45FHKCfT1C-medium.jpg 1024w, https://wunderflatsng.blob.core.windows.net/imagesproduction/lXb4VHHwd1U45FHKCfT1C-large.jpg 1280w\"/><div class=\"ImageGallery-navButtonsOuter\"><button class=\"ImageGallery-navButton ImageGallery-navButton--left\"><img alt=\"Previous\" src=\"/public/images/gallery-nav-prev-icon.svg\"/></button><button class=\"ImageGallery-navButton ImageGallery-navButton--right\"><img alt=\"Next\" src=\"/public/images/gallery-nav-next-icon.svg\"/></button></div></figure></div></div></div><div class=\"Listing-description\"><a class=\"Listing-link\" data-listing=\"678fa82534cc52b178eac06d\" href=\"/en/furnished-apartment/elegant-room-in-berlin-friedrichshain/678fa82534cc52b178eac06d?from=2025-05-06&amp;to=2026-04-03&amp;minSize=80&amp;dataLayerKey=Lrii3xCn6eMmv0IpPR_BV\" target=\"_blank\" title=\"Elegant room in Berlin Friedrichshain!\"></a><h3 class=\"Listing-descriptionTitle\">Elegant room in Berlin Friedrichshain!</h3><strong class=\"ListingPrice ListingPrice--light\"><span class=\"ListingPrice-price\">€999</span><small class=\"ListingPrice-time\">per month</small></strong><div class=\"Listing-details\"><div class=\"ListingDetailsBrief\"><span class=\"info\">1 Room</span><span class=\"info\">1 adult</span><span class=\"info ListingDetailsBrief-info--area\">120<!-- --> m²</span></div></div></div></article></div>"
      ]
     },
     "execution_count": 76,
     "metadata": {},
     "output_type": "execute_result"
    }
   ],
   "source": [
    "listing"
   ]
  },
  {
   "cell_type": "markdown",
   "id": "b3cfb525-f51f-4133-b74c-185077bac7fd",
   "metadata": {},
   "source": [
    "# Next URL"
   ]
  },
  {
   "cell_type": "code",
   "execution_count": 78,
   "id": "b5ab3cca-df7b-4b73-b613-137782a18da9",
   "metadata": {},
   "outputs": [],
   "source": [
    "url2 = f\"https://wunderflats.com{listing.find(\"a\").get(\"href\")}\""
   ]
  },
  {
   "cell_type": "code",
   "execution_count": 82,
   "id": "80e54dbe-c004-4642-af4c-76958b0f7e90",
   "metadata": {},
   "outputs": [
    {
     "data": {
      "text/plain": [
       "'https://wunderflats.com/en/furnished-apartment/elegant-room-in-berlin-friedrichshain/678fa82534cc52b178eac06d?from=2025-05-06&to=2026-04-03&minSize=80&dataLayerKey=Lrii3xCn6eMmv0IpPR_BV'"
      ]
     },
     "execution_count": 82,
     "metadata": {},
     "output_type": "execute_result"
    }
   ],
   "source": [
    "url2"
   ]
  },
  {
   "cell_type": "code",
   "execution_count": 79,
   "id": "d32ef066-59f3-4be3-a750-2526ea12a3bb",
   "metadata": {},
   "outputs": [],
   "source": [
    "r2 = requests.get(url2)"
   ]
  },
  {
   "cell_type": "code",
   "execution_count": 80,
   "id": "66566896-dfb1-4cc5-8871-339db6bc68c6",
   "metadata": {},
   "outputs": [],
   "source": [
    "soup2 = BeautifulSoup(r2.text, 'html.parser')"
   ]
  },
  {
   "cell_type": "markdown",
   "id": "1280d14b-6707-425a-9165-44efeb78a88a",
   "metadata": {},
   "source": [
    "# Info per listing in list"
   ]
  },
  {
   "cell_type": "code",
   "execution_count": 38,
   "id": "74182762-ceb5-49de-b859-32a1d5b1d7a9",
   "metadata": {},
   "outputs": [
    {
     "data": {
      "text/plain": [
       "'678fa82534cc52b178eac06d'"
      ]
     },
     "execution_count": 38,
     "metadata": {},
     "output_type": "execute_result"
    }
   ],
   "source": [
    "listing.find(\"a\").get(\"data-listing\")"
   ]
  },
  {
   "cell_type": "code",
   "execution_count": 27,
   "id": "5c8c673e-5aeb-4beb-9b6c-7404ba0c58f7",
   "metadata": {},
   "outputs": [
    {
     "data": {
      "text/plain": [
       "'Elegant room in Berlin Friedrichshain!'"
      ]
     },
     "execution_count": 27,
     "metadata": {},
     "output_type": "execute_result"
    }
   ],
   "source": [
    "listing.find(\"h3\").text"
   ]
  },
  {
   "cell_type": "code",
   "execution_count": 33,
   "id": "a08c019c-f957-4f0b-86ef-c629231e0e36",
   "metadata": {},
   "outputs": [
    {
     "data": {
      "text/plain": [
       "'€999'"
      ]
     },
     "execution_count": 33,
     "metadata": {},
     "output_type": "execute_result"
    }
   ],
   "source": [
    "listing.find(\"span\", class_=\"ListingPrice-price\").text"
   ]
  },
  {
   "cell_type": "code",
   "execution_count": 35,
   "id": "aed47690-b1c0-4570-9742-128591b7afc7",
   "metadata": {},
   "outputs": [
    {
     "data": {
      "text/plain": [
       "'per month'"
      ]
     },
     "execution_count": 35,
     "metadata": {},
     "output_type": "execute_result"
    }
   ],
   "source": [
    "listing.find(\"small\", class_=\"ListingPrice-time\").text"
   ]
  },
  {
   "cell_type": "code",
   "execution_count": 36,
   "id": "eac5f9f6-c362-4b02-bde5-e33ba50d06d7",
   "metadata": {},
   "outputs": [
    {
     "data": {
      "text/plain": [
       "[<span class=\"info\">1 Room</span>,\n",
       " <span class=\"info\">1 adult</span>,\n",
       " <span class=\"info ListingDetailsBrief-info--area\">120<!-- --> m²</span>]"
      ]
     },
     "execution_count": 36,
     "metadata": {},
     "output_type": "execute_result"
    }
   ],
   "source": [
    "listing.find_all(\"span\", class_=\"info\")"
   ]
  },
  {
   "cell_type": "markdown",
   "id": "1cbebd91-9935-4ce2-b878-dc5168eec1c6",
   "metadata": {},
   "source": [
    "# Function"
   ]
  },
  {
   "cell_type": "code",
   "execution_count": 107,
   "id": "1474c253-f05c-42e7-8671-5ce38ca4bc40",
   "metadata": {
    "scrolled": true
   },
   "outputs": [
    {
     "name": "stdout",
     "output_type": "stream",
     "text": [
      "{'678fa82534cc52b178eac06d': {'id': '678fa82534cc52b178eac06d', 'title': 'Elegant room in Berlin Friedrichshain!', 'price': 999, 'calendar': 'month', 'rooms': 1, 'people': 1, 'img': 'https://wunderflatsng.blob.core.windows.net/imagesproduction/lXb4VHHwd1U45FHKCfT1C-original', 'url': '/en/furnished-apartment/elegant-room-in-berlin-friedrichshain/678fa82534cc52b178eac06d?from=2025-05-06&to=2026-04-03&minSize=80&dataLayerKey=Lrii3xCn6eMmv0IpPR_BV', 'size': 120}, '6790ec28690fa7b09bb9a63a': {'id': '6790ec28690fa7b09bb9a63a', 'title': 'Nice, great home in Friedrichshain (Berlin)', 'price': 695, 'calendar': 'month', 'rooms': 1, 'people': 1, 'img': 'https://wunderflatsng.blob.core.windows.net/imagesproduction/lXb4VHHwd1U45FHKCfT1C-original', 'url': '/en/furnished-apartment/elegant-room-in-berlin-friedrichshain/678fa82534cc52b178eac06d?from=2025-05-06&to=2026-04-03&minSize=80&dataLayerKey=Lrii3xCn6eMmv0IpPR_BV', 'size': 93}, '678e68f95cf2fb43e31ca319': {'id': '678e68f95cf2fb43e31ca319', 'title': 'UNIQUE OLD BUILDING WITH CHARM AND EXCLUSIVE EQUIPMENT Directly at the Spree in Berlin Kreuzberg', 'price': 3600, 'calendar': 'month', 'rooms': 3, 'people': 3, 'img': 'https://wunderflatsng.blob.core.windows.net/imagesproduction/lXb4VHHwd1U45FHKCfT1C-original', 'url': '/en/furnished-apartment/elegant-room-in-berlin-friedrichshain/678fa82534cc52b178eac06d?from=2025-05-06&to=2026-04-03&minSize=80&dataLayerKey=Lrii3xCn6eMmv0IpPR_BV', 'size': 88}, '6745b4677ae0c3f3e3ff7ccb': {'id': '6745b4677ae0c3f3e3ff7ccb', 'title': 'Beautiful loft in Friedrichshain, Berlin', 'price': 695, 'calendar': 'month', 'rooms': 1, 'people': 1, 'img': 'https://wunderflatsng.blob.core.windows.net/imagesproduction/lXb4VHHwd1U45FHKCfT1C-original', 'url': '/en/furnished-apartment/elegant-room-in-berlin-friedrichshain/678fa82534cc52b178eac06d?from=2025-05-06&to=2026-04-03&minSize=80&dataLayerKey=Lrii3xCn6eMmv0IpPR_BV', 'size': 93}, '592b9ce3561f9fc18b9fbeae': {'id': '592b9ce3561f9fc18b9fbeae', 'title': 'Modern stylisch maisonette in Friedrichshain, Berlin', 'price': 3000, 'calendar': 'month', 'rooms': 4, 'people': 3, 'img': 'https://wunderflatsng.blob.core.windows.net/imagesproduction/lXb4VHHwd1U45FHKCfT1C-original', 'url': '/en/furnished-apartment/elegant-room-in-berlin-friedrichshain/678fa82534cc52b178eac06d?from=2025-05-06&to=2026-04-03&minSize=80&dataLayerKey=Lrii3xCn6eMmv0IpPR_BV', 'size': 126}, '63b2de7014de1853c0215bac': {'id': '63b2de7014de1853c0215bac', 'title': '2 bedrooms Apartment in Friedrichshain', 'price': 3180, 'calendar': 'month', 'rooms': 3, 'people': 4, 'img': 'https://wunderflatsng.blob.core.windows.net/imagesproduction/lXb4VHHwd1U45FHKCfT1C-original', 'url': '/en/furnished-apartment/elegant-room-in-berlin-friedrichshain/678fa82534cc52b178eac06d?from=2025-05-06&to=2026-04-03&minSize=80&dataLayerKey=Lrii3xCn6eMmv0IpPR_BV', 'size': 85}, '67c1a02452657ce739b7e3c0': {'id': '67c1a02452657ce739b7e3c0', 'title': 'Amazing and neat flat', 'price': 855, 'calendar': 'month', 'rooms': 1, 'people': 1, 'img': 'https://wunderflatsng.blob.core.windows.net/imagesproduction/lXb4VHHwd1U45FHKCfT1C-original', 'url': '/en/furnished-apartment/elegant-room-in-berlin-friedrichshain/678fa82534cc52b178eac06d?from=2025-05-06&to=2026-04-03&minSize=80&dataLayerKey=Lrii3xCn6eMmv0IpPR_BV', 'size': 104}, '655f4e43bf905036d5d9d577': {'id': '655f4e43bf905036d5d9d577', 'title': 'Cozy 5 bedroom apartment in Berlin Friedrichshain', 'price': 5500, 'calendar': 'month', 'rooms': 5, 'people': 5, 'img': 'https://wunderflatsng.blob.core.windows.net/imagesproduction/lXb4VHHwd1U45FHKCfT1C-original', 'url': '/en/furnished-apartment/elegant-room-in-berlin-friedrichshain/678fa82534cc52b178eac06d?from=2025-05-06&to=2026-04-03&minSize=80&dataLayerKey=Lrii3xCn6eMmv0IpPR_BV', 'size': 180}, '6708249b97bccf64d407e220': {'id': '6708249b97bccf64d407e220', 'title': 'Pretty and fantastic flat in Friedrichshain', 'price': 3900, 'calendar': 'month', 'rooms': 3, 'people': 4, 'img': 'https://wunderflatsng.blob.core.windows.net/imagesproduction/lXb4VHHwd1U45FHKCfT1C-original', 'url': '/en/furnished-apartment/elegant-room-in-berlin-friedrichshain/678fa82534cc52b178eac06d?from=2025-05-06&to=2026-04-03&minSize=80&dataLayerKey=Lrii3xCn6eMmv0IpPR_BV', 'size': 146}, '655f2f4dbf905036d5d94fb0': {'id': '655f2f4dbf905036d5d94fb0', 'title': 'Fancy 3 bedroom apartment in Berlin Friedrichshain', 'price': 3600, 'calendar': 'month', 'rooms': 3, 'people': 3, 'img': 'https://wunderflatsng.blob.core.windows.net/imagesproduction/lXb4VHHwd1U45FHKCfT1C-original', 'url': '/en/furnished-apartment/elegant-room-in-berlin-friedrichshain/678fa82534cc52b178eac06d?from=2025-05-06&to=2026-04-03&minSize=80&dataLayerKey=Lrii3xCn6eMmv0IpPR_BV', 'size': 100}, '666c03b71f6f83b1ac682d99': {'id': '666c03b71f6f83b1ac682d99', 'title': 'Top Spot- Kreuzburg Central', 'price': 4304, 'calendar': 'month', 'rooms': 3, 'people': 6, 'img': 'https://wunderflatsng.blob.core.windows.net/imagesproduction/lXb4VHHwd1U45FHKCfT1C-original', 'url': '/en/furnished-apartment/elegant-room-in-berlin-friedrichshain/678fa82534cc52b178eac06d?from=2025-05-06&to=2026-04-03&minSize=80&dataLayerKey=Lrii3xCn6eMmv0IpPR_BV', 'size': 95}, '627d3b184cc47cabba3241c7': {'id': '627d3b184cc47cabba3241c7', 'title': '4 room apartment with balcony in Friedrichshain', 'price': 3110, 'calendar': 'month', 'rooms': 4, 'people': 5, 'img': 'https://wunderflatsng.blob.core.windows.net/imagesproduction/lXb4VHHwd1U45FHKCfT1C-original', 'url': '/en/furnished-apartment/elegant-room-in-berlin-friedrichshain/678fa82534cc52b178eac06d?from=2025-05-06&to=2026-04-03&minSize=80&dataLayerKey=Lrii3xCn6eMmv0IpPR_BV', 'size': 110}, '6489853044409208d9003c17': {'id': '6489853044409208d9003c17', 'title': 'Spacious 2 Bedroom Apartment with Private Garden + Patio located in safe inner courtyard in Berlin', 'price': 2490, 'calendar': 'month', 'rooms': 3, 'people': 3, 'img': 'https://wunderflatsng.blob.core.windows.net/imagesproduction/lXb4VHHwd1U45FHKCfT1C-original', 'url': '/en/furnished-apartment/elegant-room-in-berlin-friedrichshain/678fa82534cc52b178eac06d?from=2025-05-06&to=2026-04-03&minSize=80&dataLayerKey=Lrii3xCn6eMmv0IpPR_BV', 'size': 80}, '65730631c7b66f3f3de1f054': {'id': '65730631c7b66f3f3de1f054', 'title': 'Lovely flat in Friedrichshain', 'price': 2000, 'calendar': 'month', 'rooms': 2, 'people': 4, 'img': 'https://wunderflatsng.blob.core.windows.net/imagesproduction/lXb4VHHwd1U45FHKCfT1C-original', 'url': '/en/furnished-apartment/elegant-room-in-berlin-friedrichshain/678fa82534cc52b178eac06d?from=2025-05-06&to=2026-04-03&minSize=80&dataLayerKey=Lrii3xCn6eMmv0IpPR_BV', 'size': 80}, '615ed4262ca86b0008f6c040': {'id': '615ed4262ca86b0008f6c040', 'title': 'Luxury Design Apartment with Spectacular Spree Views – A Tranquil Oasis in the Heart of Berlin', 'price': 6100, 'calendar': 'month', 'rooms': 3, 'people': 5, 'img': 'https://wunderflatsng.blob.core.windows.net/imagesproduction/lXb4VHHwd1U45FHKCfT1C-original', 'url': '/en/furnished-apartment/elegant-room-in-berlin-friedrichshain/678fa82534cc52b178eac06d?from=2025-05-06&to=2026-04-03&minSize=80&dataLayerKey=Lrii3xCn6eMmv0IpPR_BV', 'size': 145}, '65dc98f45f265a3aa700c428': {'id': '65dc98f45f265a3aa700c428', 'title': 'Pretty luxurious Loft in Rummelsburg', 'price': 4200, 'calendar': 'month', 'rooms': 4, 'people': 6, 'img': 'https://wunderflatsng.blob.core.windows.net/imagesproduction/lXb4VHHwd1U45FHKCfT1C-original', 'url': '/en/furnished-apartment/elegant-room-in-berlin-friedrichshain/678fa82534cc52b178eac06d?from=2025-05-06&to=2026-04-03&minSize=80&dataLayerKey=Lrii3xCn6eMmv0IpPR_BV', 'size': 260}, '62384b6aca540b739dc8a3f0': {'id': '62384b6aca540b739dc8a3f0', 'title': 'Beautiful new build roof top one  bedroom apartment in Alt-Treptow', 'price': 2040, 'calendar': 'month', 'rooms': 2, 'people': 2, 'img': 'https://wunderflatsng.blob.core.windows.net/imagesproduction/lXb4VHHwd1U45FHKCfT1C-original', 'url': '/en/furnished-apartment/elegant-room-in-berlin-friedrichshain/678fa82534cc52b178eac06d?from=2025-05-06&to=2026-04-03&minSize=80&dataLayerKey=Lrii3xCn6eMmv0IpPR_BV', 'size': 103}, '60b8c2a4fc559e0008a96862': {'id': '60b8c2a4fc559e0008a96862', 'title': 'Large, bright & family-friendly apartment in Berlin-Lichtenberg', 'price': 2150, 'calendar': 'month', 'rooms': 3, 'people': 4, 'img': 'https://wunderflatsng.blob.core.windows.net/imagesproduction/lXb4VHHwd1U45FHKCfT1C-original', 'url': '/en/furnished-apartment/elegant-room-in-berlin-friedrichshain/678fa82534cc52b178eac06d?from=2025-05-06&to=2026-04-03&minSize=80&dataLayerKey=Lrii3xCn6eMmv0IpPR_BV', 'size': 87}, '5d2f40235809d200061fae58': {'id': '5d2f40235809d200061fae58', 'title': 'MODERN TWO-BEDROOM APARTMENT IN TRENDY FRIEDRICHSHAIN BERLIN', 'price': 2490, 'calendar': 'month', 'rooms': 3, 'people': 4, 'img': 'https://wunderflatsng.blob.core.windows.net/imagesproduction/lXb4VHHwd1U45FHKCfT1C-original', 'url': '/en/furnished-apartment/elegant-room-in-berlin-friedrichshain/678fa82534cc52b178eac06d?from=2025-05-06&to=2026-04-03&minSize=80&dataLayerKey=Lrii3xCn6eMmv0IpPR_BV', 'size': 86}, '66b2767f86a6b168996f34bd': {'id': '66b2767f86a6b168996f34bd', 'title': 'Unique Residential and Commercial Building: Historic Charm Meets Modern Elegance', 'price': 2770, 'calendar': 'month', 'rooms': 3, 'people': 2, 'img': 'https://wunderflatsng.blob.core.windows.net/imagesproduction/lXb4VHHwd1U45FHKCfT1C-original', 'url': '/en/furnished-apartment/elegant-room-in-berlin-friedrichshain/678fa82534cc52b178eac06d?from=2025-05-06&to=2026-04-03&minSize=80&dataLayerKey=Lrii3xCn6eMmv0IpPR_BV', 'size': 80}, '637fa4af7a79558df6683674': {'id': '637fa4af7a79558df6683674', 'title': 'Designer 3-room apartment + balcony best location Friedrichshain Boxhagener Platz Warschauer Str Samariterstr Frankfurter Allee U1/3/4/5 M10', 'price': 2999, 'calendar': 'month', 'rooms': 3, 'people': 4, 'img': 'https://wunderflatsng.blob.core.windows.net/imagesproduction/lXb4VHHwd1U45FHKCfT1C-original', 'url': '/en/furnished-apartment/elegant-room-in-berlin-friedrichshain/678fa82534cc52b178eac06d?from=2025-05-06&to=2026-04-03&minSize=80&dataLayerKey=Lrii3xCn6eMmv0IpPR_BV', 'size': 98}, '66d1bd517b00825004a99bf0': {'id': '66d1bd517b00825004a99bf0', 'title': 'Luxurious 3 room apartment in Kreuzkölln', 'price': 3250, 'calendar': 'month', 'rooms': 3, 'people': 4, 'img': 'https://wunderflatsng.blob.core.windows.net/imagesproduction/lXb4VHHwd1U45FHKCfT1C-original', 'url': '/en/furnished-apartment/elegant-room-in-berlin-friedrichshain/678fa82534cc52b178eac06d?from=2025-05-06&to=2026-04-03&minSize=80&dataLayerKey=Lrii3xCn6eMmv0IpPR_BV', 'size': 106}, '63b1c1bfc7e90cc508b4a785': {'id': '63b1c1bfc7e90cc508b4a785', 'title': 'Spacious Design Apartment | Xberg/Friedrichshain', 'price': 2850, 'calendar': 'month', 'rooms': 3, 'people': 4, 'img': 'https://wunderflatsng.blob.core.windows.net/imagesproduction/lXb4VHHwd1U45FHKCfT1C-original', 'url': '/en/furnished-apartment/elegant-room-in-berlin-friedrichshain/678fa82534cc52b178eac06d?from=2025-05-06&to=2026-04-03&minSize=80&dataLayerKey=Lrii3xCn6eMmv0IpPR_BV', 'size': 120}, '654e0d960e9a99ea840c2768': {'id': '654e0d960e9a99ea840c2768', 'title': 'Spacious 2-bedrooom flat close to Ostkreuz in Neubau', 'price': 2450, 'calendar': 'month', 'rooms': 3, 'people': 3, 'img': 'https://wunderflatsng.blob.core.windows.net/imagesproduction/lXb4VHHwd1U45FHKCfT1C-original', 'url': '/en/furnished-apartment/elegant-room-in-berlin-friedrichshain/678fa82534cc52b178eac06d?from=2025-05-06&to=2026-04-03&minSize=80&dataLayerKey=Lrii3xCn6eMmv0IpPR_BV', 'size': 86}, '65155d5c7527a7c1a29e7dcf': {'id': '65155d5c7527a7c1a29e7dcf', 'title': 'Co-living: Private room in bright rooftop apartment studio in excellent location at Ostkreuz, Friedrichshain (shared place)', 'price': 1450, 'calendar': 'month', 'rooms': 1, 'people': 2, 'img': 'https://wunderflatsng.blob.core.windows.net/imagesproduction/lXb4VHHwd1U45FHKCfT1C-original', 'url': '/en/furnished-apartment/elegant-room-in-berlin-friedrichshain/678fa82534cc52b178eac06d?from=2025-05-06&to=2026-04-03&minSize=80&dataLayerKey=Lrii3xCn6eMmv0IpPR_BV', 'size': 100}, '5bfc6c44b664f500056b7502': {'id': '5bfc6c44b664f500056b7502', 'title': 'Neat loft in vibrant neighbourhood of Berlin-Kreuzberg', 'price': 2290, 'calendar': 'month', 'rooms': 3, 'people': 2, 'img': 'https://wunderflatsng.blob.core.windows.net/imagesproduction/lXb4VHHwd1U45FHKCfT1C-original', 'url': '/en/furnished-apartment/elegant-room-in-berlin-friedrichshain/678fa82534cc52b178eac06d?from=2025-05-06&to=2026-04-03&minSize=80&dataLayerKey=Lrii3xCn6eMmv0IpPR_BV', 'size': 85}, '673e13d586e388bc6a7749bf': {'id': '673e13d586e388bc6a7749bf', 'title': 'Stylish Apartment with Vintage Flair straight at Boxhagener Platz', 'price': 2750, 'calendar': 'month', 'rooms': 3, 'people': 3, 'img': 'https://wunderflatsng.blob.core.windows.net/imagesproduction/lXb4VHHwd1U45FHKCfT1C-original', 'url': '/en/furnished-apartment/elegant-room-in-berlin-friedrichshain/678fa82534cc52b178eac06d?from=2025-05-06&to=2026-04-03&minSize=80&dataLayerKey=Lrii3xCn6eMmv0IpPR_BV', 'size': 98}, '670fba0dfa2180d6cfd677a8': {'id': '670fba0dfa2180d6cfd677a8', 'title': 'High-quality new-build apartment in a prime location - fully furnished and ready to move into from November 1', 'price': 2950, 'calendar': 'month', 'rooms': 3, 'people': 3, 'img': 'https://wunderflatsng.blob.core.windows.net/imagesproduction/lXb4VHHwd1U45FHKCfT1C-original', 'url': '/en/furnished-apartment/elegant-room-in-berlin-friedrichshain/678fa82534cc52b178eac06d?from=2025-05-06&to=2026-04-03&minSize=80&dataLayerKey=Lrii3xCn6eMmv0IpPR_BV', 'size': 92}, '659078cff45a9338a8f9f19b': {'id': '659078cff45a9338a8f9f19b', 'title': 'Perfect, fashionable home', 'price': 3000, 'calendar': 'month', 'rooms': 3, 'people': 4, 'img': 'https://wunderflatsng.blob.core.windows.net/imagesproduction/lXb4VHHwd1U45FHKCfT1C-original', 'url': '/en/furnished-apartment/elegant-room-in-berlin-friedrichshain/678fa82534cc52b178eac06d?from=2025-05-06&to=2026-04-03&minSize=80&dataLayerKey=Lrii3xCn6eMmv0IpPR_BV', 'size': 85}, '5d72131469cc21000725717c': {'id': '5d72131469cc21000725717c', 'title': 'Interior design apartment with garden on the Rummelsburger bay', 'price': 2450, 'calendar': 'month', 'rooms': 3, 'people': 4, 'img': 'https://wunderflatsng.blob.core.windows.net/imagesproduction/lXb4VHHwd1U45FHKCfT1C-original', 'url': '/en/furnished-apartment/elegant-room-in-berlin-friedrichshain/678fa82534cc52b178eac06d?from=2025-05-06&to=2026-04-03&minSize=80&dataLayerKey=Lrii3xCn6eMmv0IpPR_BV', 'size': 80}, '63481152fab5f77039652e44': {'id': '63481152fab5f77039652e44', 'title': 'Modern apartment |X-Berg| Home Office | Terrace | eat-in kitchen |', 'price': 2095, 'calendar': 'month', 'rooms': 2, 'people': 4, 'img': 'https://wunderflatsng.blob.core.windows.net/imagesproduction/lXb4VHHwd1U45FHKCfT1C-original', 'url': '/en/furnished-apartment/elegant-room-in-berlin-friedrichshain/678fa82534cc52b178eac06d?from=2025-05-06&to=2026-04-03&minSize=80&dataLayerKey=Lrii3xCn6eMmv0IpPR_BV', 'size': 83}, '66c359407e93e77ee9bc7135': {'id': '66c359407e93e77ee9bc7135', 'title': 'Wonderful, great studio in Friedrichshain', 'price': 3500, 'calendar': 'month', 'rooms': 4, 'people': 5, 'img': 'https://wunderflatsng.blob.core.windows.net/imagesproduction/lXb4VHHwd1U45FHKCfT1C-original', 'url': '/en/furnished-apartment/elegant-room-in-berlin-friedrichshain/678fa82534cc52b178eac06d?from=2025-05-06&to=2026-04-03&minSize=80&dataLayerKey=Lrii3xCn6eMmv0IpPR_BV', 'size': 130}, '5e874c4bb0ecef000604f350': {'id': '5e874c4bb0ecef000604f350', 'title': 'Very modern 4-room apartment with 2 bedrooms and kitchen island in Lichtenberg', 'price': 3150, 'calendar': 'month', 'rooms': 4, 'people': 4, 'img': 'https://wunderflatsng.blob.core.windows.net/imagesproduction/lXb4VHHwd1U45FHKCfT1C-original', 'url': '/en/furnished-apartment/elegant-room-in-berlin-friedrichshain/678fa82534cc52b178eac06d?from=2025-05-06&to=2026-04-03&minSize=80&dataLayerKey=Lrii3xCn6eMmv0IpPR_BV', 'size': 110}, '5e203844befde50006d39e54': {'id': '5e203844befde50006d39e54', 'title': 'Beautiful 80sqm Altbau Apartment in Friedrichshain near Boxhagener Platz', 'price': 2300, 'calendar': 'month', 'rooms': 2, 'people': 2, 'img': 'https://wunderflatsng.blob.core.windows.net/imagesproduction/lXb4VHHwd1U45FHKCfT1C-original', 'url': '/en/furnished-apartment/elegant-room-in-berlin-friedrichshain/678fa82534cc52b178eac06d?from=2025-05-06&to=2026-04-03&minSize=80&dataLayerKey=Lrii3xCn6eMmv0IpPR_BV', 'size': 80}, '603d17a1b560c8000859eb07': {'id': '603d17a1b560c8000859eb07', 'title': 'Exclusive roof terrace loft at the East Side Gallery', 'price': 4600, 'calendar': 'month', 'rooms': 3, 'people': 2, 'img': 'https://wunderflatsng.blob.core.windows.net/imagesproduction/lXb4VHHwd1U45FHKCfT1C-original', 'url': '/en/furnished-apartment/elegant-room-in-berlin-friedrichshain/678fa82534cc52b178eac06d?from=2025-05-06&to=2026-04-03&minSize=80&dataLayerKey=Lrii3xCn6eMmv0IpPR_BV', 'size': 132}, '618e6f208e00ab0007e8c620': {'id': '618e6f208e00ab0007e8c620', 'title': 'Lovely, modern home in Friedrichshain directly at the waterfront!', 'price': 3780, 'calendar': 'month', 'rooms': 2, 'people': 2, 'img': 'https://wunderflatsng.blob.core.windows.net/imagesproduction/lXb4VHHwd1U45FHKCfT1C-original', 'url': '/en/furnished-apartment/elegant-room-in-berlin-friedrichshain/678fa82534cc52b178eac06d?from=2025-05-06&to=2026-04-03&minSize=80&dataLayerKey=Lrii3xCn6eMmv0IpPR_BV', 'size': 102}, '6528081681c813bbdcb2d4fd': {'id': '6528081681c813bbdcb2d4fd', 'title': 'Beautiful & nice flat with a Garden in Rummelsburg (Berlin)', 'price': 2770, 'calendar': 'month', 'rooms': 3, 'people': 4, 'img': 'https://wunderflatsng.blob.core.windows.net/imagesproduction/lXb4VHHwd1U45FHKCfT1C-original', 'url': '/en/furnished-apartment/elegant-room-in-berlin-friedrichshain/678fa82534cc52b178eac06d?from=2025-05-06&to=2026-04-03&minSize=80&dataLayerKey=Lrii3xCn6eMmv0IpPR_BV', 'size': 85}, '5cc1a0d0a596ff0006e314b8': {'id': '5cc1a0d0a596ff0006e314b8', 'title': 'Stunning & spacious Altbau apartment in fantastic Friedrichshain', 'price': 2350, 'calendar': 'month', 'rooms': 3, 'people': 3, 'img': 'https://wunderflatsng.blob.core.windows.net/imagesproduction/lXb4VHHwd1U45FHKCfT1C-original', 'url': '/en/furnished-apartment/elegant-room-in-berlin-friedrichshain/678fa82534cc52b178eac06d?from=2025-05-06&to=2026-04-03&minSize=80&dataLayerKey=Lrii3xCn6eMmv0IpPR_BV', 'size': 80}, '6759b49236691444337a11ad': {'id': '6759b49236691444337a11ad', 'title': 'Great studio in Friedrichshain', 'price': 2800, 'calendar': 'month', 'rooms': 2, 'people': 3, 'img': 'https://wunderflatsng.blob.core.windows.net/imagesproduction/lXb4VHHwd1U45FHKCfT1C-original', 'url': '/en/furnished-apartment/elegant-room-in-berlin-friedrichshain/678fa82534cc52b178eac06d?from=2025-05-06&to=2026-04-03&minSize=80&dataLayerKey=Lrii3xCn6eMmv0IpPR_BV', 'size': 127}}\n"
     ]
    }
   ],
   "source": [
    "base = \"https://wunderflats.com/en/furnished-apartments/berlin\"\n",
    "query = \"?from=2025-05-06&to=2026-04-03&scoreVariant=A&bbox=13.439029194122513%2C52.51287794429001%2C13.500998951202591%2C52.48638676462957&minSize=80\"\n",
    "\n",
    "listings = {}\n",
    "\n",
    "i = 0\n",
    "while True:\n",
    "    i += 1\n",
    "    url = f\"{base}/{i}{query}\"\n",
    "    r = requests.get(url)\n",
    "    if not r.status_code:\n",
    "        raise Exception(\"Error\")\n",
    "    soup = BeautifulSoup(r.text, \"html.parser\")\n",
    "    web_listings = soup.select(\"div.ListingsList-item\")\n",
    "\n",
    "    if len(web_listings) < 1:\n",
    "        break\n",
    "\n",
    "    for web_listing in web_listings:\n",
    "        uid = web_listing.find(\"a\").get(\"data-listing\")\n",
    "        title = web_listing.find(\"h3\").text\n",
    "        price = web_listing.find(\"span\", class_=\"ListingPrice-price\").text\n",
    "        calendar = web_listing.find(\"small\", class_=\"ListingPrice-time\").text\n",
    "        img = listing.find(\"img\").get(\"src\")\n",
    "        rooms, people, size = [l.text for l in web_listing.find_all(\"span\", class_=\"info\")]\n",
    "        url = listing.find(\"a\").get(\"href\")\n",
    "\n",
    "        listings[uid] = {\n",
    "            \"id\": uid,\n",
    "            \"title\": title,\n",
    "            \"price\": int(price.replace(\"€\", \"\").replace(\",\", \"\")),\n",
    "            \"calendar\": calendar.split()[1],\n",
    "            \"rooms\": int(rooms.split()[0]),\n",
    "            \"people\": int(people.split()[0]),\n",
    "            \"img\": img,\n",
    "            \"url\": url,\n",
    "            \"size\": int(size.split()[0])\n",
    "        }\n",
    "\n",
    "print(listings)"
   ]
  },
  {
   "cell_type": "code",
   "execution_count": 108,
   "id": "f6e11fd4-76c9-4bed-81e4-8b9e4489b7fb",
   "metadata": {},
   "outputs": [],
   "source": [
    "import json\n",
    "\n",
    "with open(\"flats-cache.json\", \"w\") as f:\n",
    "    json.dump(listings, f)"
   ]
  },
  {
   "cell_type": "code",
   "execution_count": 109,
   "id": "f299cd89-d5b6-4c93-8bd0-64af1073b30e",
   "metadata": {},
   "outputs": [],
   "source": [
    "with open(\"flats-cache.json\", \"r\") as f:\n",
    "    old_listings = json.load(f)"
   ]
  },
  {
   "cell_type": "code",
   "execution_count": 110,
   "id": "05adfabc-d061-4cd6-8962-f4c91d3abc73",
   "metadata": {},
   "outputs": [
    {
     "data": {
      "text/plain": [
       "{'id': '5cc1a0d0a596ff0006e314b8',\n",
       " 'title': 'Stunning & spacious Altbau apartment in fantastic Friedrichshain',\n",
       " 'price': 2350,\n",
       " 'calendar': 'month',\n",
       " 'rooms': 3,\n",
       " 'people': 3,\n",
       " 'img': 'https://wunderflatsng.blob.core.windows.net/imagesproduction/lXb4VHHwd1U45FHKCfT1C-original',\n",
       " 'url': '/en/furnished-apartment/elegant-room-in-berlin-friedrichshain/678fa82534cc52b178eac06d?from=2025-05-06&to=2026-04-03&minSize=80&dataLayerKey=Lrii3xCn6eMmv0IpPR_BV',\n",
       " 'size': 80}"
      ]
     },
     "execution_count": 110,
     "metadata": {},
     "output_type": "execute_result"
    }
   ],
   "source": [
    "# testing\n",
    "ll = list(old_listings.keys())\n",
    "listings.pop(ll[0])\n",
    "listings.pop(ll[1])\n",
    "old_listings.pop(ll[-1])\n",
    "old_listings.pop(ll[-2])"
   ]
  },
  {
   "cell_type": "code",
   "execution_count": 114,
   "id": "d2ac10d7-244e-4f9a-9246-8574464d73b3",
   "metadata": {},
   "outputs": [],
   "source": [
    "new_listings = {k:v for k,v in listings.items() if k not in old_listings}\n",
    "removed_listings = {k:v for k,v in old_listings.items() if k not in listings}"
   ]
  },
  {
   "cell_type": "code",
   "execution_count": 118,
   "id": "ac24128e-d2fa-4e07-9675-09b1f9a02674",
   "metadata": {},
   "outputs": [],
   "source": [
    "import pandas as pd"
   ]
  },
  {
   "cell_type": "code",
   "execution_count": 125,
   "id": "2fcc375f-e12d-48e4-832b-2f956c228b8f",
   "metadata": {},
   "outputs": [],
   "source": [
    "pd_l = pd.DataFrame(listings.values())\n",
    "pd_ol = pd.DataFrame(old_listings.values())"
   ]
  },
  {
   "cell_type": "code",
   "execution_count": 132,
   "id": "57c8352b-f67f-487a-8075-1256d5c3c6c7",
   "metadata": {},
   "outputs": [],
   "source": [
    "pd_added = pd_l[~pd_l.id.isin(pd_ol.id)]\n",
    "pd_removed = pd_ol[~pd_ol.id.isin(pd_l.id)]"
   ]
  },
  {
   "cell_type": "code",
   "execution_count": 133,
   "id": "7ffc5edf-b9c0-42b1-bc94-e5933a1daf2d",
   "metadata": {
    "scrolled": true
   },
   "outputs": [
    {
     "data": {
      "text/html": [
       "<div>\n",
       "<style scoped>\n",
       "    .dataframe tbody tr th:only-of-type {\n",
       "        vertical-align: middle;\n",
       "    }\n",
       "\n",
       "    .dataframe tbody tr th {\n",
       "        vertical-align: top;\n",
       "    }\n",
       "\n",
       "    .dataframe thead th {\n",
       "        text-align: right;\n",
       "    }\n",
       "</style>\n",
       "<table border=\"1\" class=\"dataframe\">\n",
       "  <thead>\n",
       "    <tr style=\"text-align: right;\">\n",
       "      <th></th>\n",
       "      <th>id</th>\n",
       "      <th>title</th>\n",
       "      <th>price</th>\n",
       "      <th>calendar</th>\n",
       "      <th>rooms</th>\n",
       "      <th>people</th>\n",
       "      <th>img</th>\n",
       "      <th>url</th>\n",
       "      <th>size</th>\n",
       "    </tr>\n",
       "  </thead>\n",
       "  <tbody>\n",
       "    <tr>\n",
       "      <th>35</th>\n",
       "      <td>5cc1a0d0a596ff0006e314b8</td>\n",
       "      <td>Stunning &amp; spacious Altbau apartment in fantas...</td>\n",
       "      <td>2350</td>\n",
       "      <td>month</td>\n",
       "      <td>3</td>\n",
       "      <td>3</td>\n",
       "      <td>https://wunderflatsng.blob.core.windows.net/im...</td>\n",
       "      <td>/en/furnished-apartment/elegant-room-in-berlin...</td>\n",
       "      <td>80</td>\n",
       "    </tr>\n",
       "    <tr>\n",
       "      <th>36</th>\n",
       "      <td>6759b49236691444337a11ad</td>\n",
       "      <td>Great studio in Friedrichshain</td>\n",
       "      <td>2800</td>\n",
       "      <td>month</td>\n",
       "      <td>2</td>\n",
       "      <td>3</td>\n",
       "      <td>https://wunderflatsng.blob.core.windows.net/im...</td>\n",
       "      <td>/en/furnished-apartment/elegant-room-in-berlin...</td>\n",
       "      <td>127</td>\n",
       "    </tr>\n",
       "  </tbody>\n",
       "</table>\n",
       "</div>"
      ],
      "text/plain": [
       "                          id  \\\n",
       "35  5cc1a0d0a596ff0006e314b8   \n",
       "36  6759b49236691444337a11ad   \n",
       "\n",
       "                                                title  price calendar  rooms  \\\n",
       "35  Stunning & spacious Altbau apartment in fantas...   2350    month      3   \n",
       "36                     Great studio in Friedrichshain   2800    month      2   \n",
       "\n",
       "    people                                                img  \\\n",
       "35       3  https://wunderflatsng.blob.core.windows.net/im...   \n",
       "36       3  https://wunderflatsng.blob.core.windows.net/im...   \n",
       "\n",
       "                                                  url  size  \n",
       "35  /en/furnished-apartment/elegant-room-in-berlin...    80  \n",
       "36  /en/furnished-apartment/elegant-room-in-berlin...   127  "
      ]
     },
     "execution_count": 133,
     "metadata": {},
     "output_type": "execute_result"
    }
   ],
   "source": [
    "pd_added.head()"
   ]
  },
  {
   "cell_type": "code",
   "execution_count": 134,
   "id": "d818acb7-1f3c-42f2-8a0a-6bb27ad773d8",
   "metadata": {
    "scrolled": true
   },
   "outputs": [
    {
     "data": {
      "text/html": [
       "<div>\n",
       "<style scoped>\n",
       "    .dataframe tbody tr th:only-of-type {\n",
       "        vertical-align: middle;\n",
       "    }\n",
       "\n",
       "    .dataframe tbody tr th {\n",
       "        vertical-align: top;\n",
       "    }\n",
       "\n",
       "    .dataframe thead th {\n",
       "        text-align: right;\n",
       "    }\n",
       "</style>\n",
       "<table border=\"1\" class=\"dataframe\">\n",
       "  <thead>\n",
       "    <tr style=\"text-align: right;\">\n",
       "      <th></th>\n",
       "      <th>id</th>\n",
       "      <th>title</th>\n",
       "      <th>price</th>\n",
       "      <th>calendar</th>\n",
       "      <th>rooms</th>\n",
       "      <th>people</th>\n",
       "      <th>img</th>\n",
       "      <th>url</th>\n",
       "      <th>size</th>\n",
       "    </tr>\n",
       "  </thead>\n",
       "  <tbody>\n",
       "    <tr>\n",
       "      <th>0</th>\n",
       "      <td>678fa82534cc52b178eac06d</td>\n",
       "      <td>Elegant room in Berlin Friedrichshain!</td>\n",
       "      <td>999</td>\n",
       "      <td>month</td>\n",
       "      <td>1</td>\n",
       "      <td>1</td>\n",
       "      <td>https://wunderflatsng.blob.core.windows.net/im...</td>\n",
       "      <td>/en/furnished-apartment/elegant-room-in-berlin...</td>\n",
       "      <td>120</td>\n",
       "    </tr>\n",
       "    <tr>\n",
       "      <th>1</th>\n",
       "      <td>6790ec28690fa7b09bb9a63a</td>\n",
       "      <td>Nice, great home in Friedrichshain (Berlin)</td>\n",
       "      <td>695</td>\n",
       "      <td>month</td>\n",
       "      <td>1</td>\n",
       "      <td>1</td>\n",
       "      <td>https://wunderflatsng.blob.core.windows.net/im...</td>\n",
       "      <td>/en/furnished-apartment/elegant-room-in-berlin...</td>\n",
       "      <td>93</td>\n",
       "    </tr>\n",
       "  </tbody>\n",
       "</table>\n",
       "</div>"
      ],
      "text/plain": [
       "                         id                                        title  \\\n",
       "0  678fa82534cc52b178eac06d       Elegant room in Berlin Friedrichshain!   \n",
       "1  6790ec28690fa7b09bb9a63a  Nice, great home in Friedrichshain (Berlin)   \n",
       "\n",
       "   price calendar  rooms  people  \\\n",
       "0    999    month      1       1   \n",
       "1    695    month      1       1   \n",
       "\n",
       "                                                 img  \\\n",
       "0  https://wunderflatsng.blob.core.windows.net/im...   \n",
       "1  https://wunderflatsng.blob.core.windows.net/im...   \n",
       "\n",
       "                                                 url  size  \n",
       "0  /en/furnished-apartment/elegant-room-in-berlin...   120  \n",
       "1  /en/furnished-apartment/elegant-room-in-berlin...    93  "
      ]
     },
     "execution_count": 134,
     "metadata": {},
     "output_type": "execute_result"
    }
   ],
   "source": [
    "pd_removed.head()"
   ]
  },
  {
   "cell_type": "code",
   "execution_count": 162,
   "id": "c12c3f5b-3c2a-4fe6-a4b4-5f5a875e6e22",
   "metadata": {},
   "outputs": [],
   "source": [
    "body = \"\\n\"\n",
    "body += \"NEW PROPERTIES:\\n\\n\"\n",
    "body += pd_added[[\"title\", \"price\", \"rooms\", \"size\", \"id\"]].to_markdown()\n",
    "body += \"\\n\\n\\n\"\n",
    "body += \"REMOVED PROPERTIES:\\n\\n\"\n",
    "body += pd_removed[[\"title\", \"price\", \"rooms\", \"size\", \"id\"]].to_markdown()\n",
    "body += \"\\n\\n\\n\\n\\n\\n\"\n",
    "body += \"-- ALL PROPERTIES --\\n\\n\"\n",
    "body += pd_l.to_markdown()"
   ]
  },
  {
   "cell_type": "code",
   "execution_count": 163,
   "id": "b77288e1-55cf-4c32-809e-0e7d40b8e978",
   "metadata": {},
   "outputs": [
    {
     "name": "stdout",
     "output_type": "stream",
     "text": [
      "\n",
      "NEW PROPERTIES:\n",
      "\n",
      "|    | title                                                            |   price |   rooms |   size | id                       |\n",
      "|---:|:-----------------------------------------------------------------|--------:|--------:|-------:|:-------------------------|\n",
      "| 35 | Stunning & spacious Altbau apartment in fantastic Friedrichshain |    2350 |       3 |     80 | 5cc1a0d0a596ff0006e314b8 |\n",
      "| 36 | Great studio in Friedrichshain                                   |    2800 |       2 |    127 | 6759b49236691444337a11ad |\n",
      "\n",
      "\n",
      "REMOVED PROPERTIES:\n",
      "\n",
      "|    | title                                       |   price |   rooms |   size | id                       |\n",
      "|---:|:--------------------------------------------|--------:|--------:|-------:|:-------------------------|\n",
      "|  0 | Elegant room in Berlin Friedrichshain!      |     999 |       1 |    120 | 678fa82534cc52b178eac06d |\n",
      "|  1 | Nice, great home in Friedrichshain (Berlin) |     695 |       1 |     93 | 6790ec28690fa7b09bb9a63a |\n",
      "\n",
      "\n",
      "\n",
      "\n",
      "\n",
      "-- ALL PROPERTIES --\n",
      "\n",
      "|    | id                       | title                                                                                                                                        |   price | calendar   |   rooms |   people | img                                                                                         | url                                                                                                                                                                |   size |\n",
      "|---:|:-------------------------|:---------------------------------------------------------------------------------------------------------------------------------------------|--------:|:-----------|--------:|---------:|:--------------------------------------------------------------------------------------------|:-------------------------------------------------------------------------------------------------------------------------------------------------------------------|-------:|\n",
      "|  0 | 678e68f95cf2fb43e31ca319 | UNIQUE OLD BUILDING WITH CHARM AND EXCLUSIVE EQUIPMENT Directly at the Spree in Berlin Kreuzberg                                             |    3600 | month      |       3 |        3 | https://wunderflatsng.blob.core.windows.net/imagesproduction/lXb4VHHwd1U45FHKCfT1C-original | /en/furnished-apartment/elegant-room-in-berlin-friedrichshain/678fa82534cc52b178eac06d?from=2025-05-06&to=2026-04-03&minSize=80&dataLayerKey=Lrii3xCn6eMmv0IpPR_BV |     88 |\n",
      "|  1 | 6745b4677ae0c3f3e3ff7ccb | Beautiful loft in Friedrichshain, Berlin                                                                                                     |     695 | month      |       1 |        1 | https://wunderflatsng.blob.core.windows.net/imagesproduction/lXb4VHHwd1U45FHKCfT1C-original | /en/furnished-apartment/elegant-room-in-berlin-friedrichshain/678fa82534cc52b178eac06d?from=2025-05-06&to=2026-04-03&minSize=80&dataLayerKey=Lrii3xCn6eMmv0IpPR_BV |     93 |\n",
      "|  2 | 592b9ce3561f9fc18b9fbeae | Modern stylisch maisonette in Friedrichshain, Berlin                                                                                         |    3000 | month      |       4 |        3 | https://wunderflatsng.blob.core.windows.net/imagesproduction/lXb4VHHwd1U45FHKCfT1C-original | /en/furnished-apartment/elegant-room-in-berlin-friedrichshain/678fa82534cc52b178eac06d?from=2025-05-06&to=2026-04-03&minSize=80&dataLayerKey=Lrii3xCn6eMmv0IpPR_BV |    126 |\n",
      "|  3 | 63b2de7014de1853c0215bac | 2 bedrooms Apartment in Friedrichshain                                                                                                       |    3180 | month      |       3 |        4 | https://wunderflatsng.blob.core.windows.net/imagesproduction/lXb4VHHwd1U45FHKCfT1C-original | /en/furnished-apartment/elegant-room-in-berlin-friedrichshain/678fa82534cc52b178eac06d?from=2025-05-06&to=2026-04-03&minSize=80&dataLayerKey=Lrii3xCn6eMmv0IpPR_BV |     85 |\n",
      "|  4 | 67c1a02452657ce739b7e3c0 | Amazing and neat flat                                                                                                                        |     855 | month      |       1 |        1 | https://wunderflatsng.blob.core.windows.net/imagesproduction/lXb4VHHwd1U45FHKCfT1C-original | /en/furnished-apartment/elegant-room-in-berlin-friedrichshain/678fa82534cc52b178eac06d?from=2025-05-06&to=2026-04-03&minSize=80&dataLayerKey=Lrii3xCn6eMmv0IpPR_BV |    104 |\n",
      "|  5 | 655f4e43bf905036d5d9d577 | Cozy 5 bedroom apartment in Berlin Friedrichshain                                                                                            |    5500 | month      |       5 |        5 | https://wunderflatsng.blob.core.windows.net/imagesproduction/lXb4VHHwd1U45FHKCfT1C-original | /en/furnished-apartment/elegant-room-in-berlin-friedrichshain/678fa82534cc52b178eac06d?from=2025-05-06&to=2026-04-03&minSize=80&dataLayerKey=Lrii3xCn6eMmv0IpPR_BV |    180 |\n",
      "|  6 | 6708249b97bccf64d407e220 | Pretty and fantastic flat in Friedrichshain                                                                                                  |    3900 | month      |       3 |        4 | https://wunderflatsng.blob.core.windows.net/imagesproduction/lXb4VHHwd1U45FHKCfT1C-original | /en/furnished-apartment/elegant-room-in-berlin-friedrichshain/678fa82534cc52b178eac06d?from=2025-05-06&to=2026-04-03&minSize=80&dataLayerKey=Lrii3xCn6eMmv0IpPR_BV |    146 |\n",
      "|  7 | 655f2f4dbf905036d5d94fb0 | Fancy 3 bedroom apartment in Berlin Friedrichshain                                                                                           |    3600 | month      |       3 |        3 | https://wunderflatsng.blob.core.windows.net/imagesproduction/lXb4VHHwd1U45FHKCfT1C-original | /en/furnished-apartment/elegant-room-in-berlin-friedrichshain/678fa82534cc52b178eac06d?from=2025-05-06&to=2026-04-03&minSize=80&dataLayerKey=Lrii3xCn6eMmv0IpPR_BV |    100 |\n",
      "|  8 | 666c03b71f6f83b1ac682d99 | Top Spot- Kreuzburg Central                                                                                                                  |    4304 | month      |       3 |        6 | https://wunderflatsng.blob.core.windows.net/imagesproduction/lXb4VHHwd1U45FHKCfT1C-original | /en/furnished-apartment/elegant-room-in-berlin-friedrichshain/678fa82534cc52b178eac06d?from=2025-05-06&to=2026-04-03&minSize=80&dataLayerKey=Lrii3xCn6eMmv0IpPR_BV |     95 |\n",
      "|  9 | 627d3b184cc47cabba3241c7 | 4 room apartment with balcony in Friedrichshain                                                                                              |    3110 | month      |       4 |        5 | https://wunderflatsng.blob.core.windows.net/imagesproduction/lXb4VHHwd1U45FHKCfT1C-original | /en/furnished-apartment/elegant-room-in-berlin-friedrichshain/678fa82534cc52b178eac06d?from=2025-05-06&to=2026-04-03&minSize=80&dataLayerKey=Lrii3xCn6eMmv0IpPR_BV |    110 |\n",
      "| 10 | 6489853044409208d9003c17 | Spacious 2 Bedroom Apartment with Private Garden + Patio located in safe inner courtyard in Berlin                                           |    2490 | month      |       3 |        3 | https://wunderflatsng.blob.core.windows.net/imagesproduction/lXb4VHHwd1U45FHKCfT1C-original | /en/furnished-apartment/elegant-room-in-berlin-friedrichshain/678fa82534cc52b178eac06d?from=2025-05-06&to=2026-04-03&minSize=80&dataLayerKey=Lrii3xCn6eMmv0IpPR_BV |     80 |\n",
      "| 11 | 65730631c7b66f3f3de1f054 | Lovely flat in Friedrichshain                                                                                                                |    2000 | month      |       2 |        4 | https://wunderflatsng.blob.core.windows.net/imagesproduction/lXb4VHHwd1U45FHKCfT1C-original | /en/furnished-apartment/elegant-room-in-berlin-friedrichshain/678fa82534cc52b178eac06d?from=2025-05-06&to=2026-04-03&minSize=80&dataLayerKey=Lrii3xCn6eMmv0IpPR_BV |     80 |\n",
      "| 12 | 615ed4262ca86b0008f6c040 | Luxury Design Apartment with Spectacular Spree Views – A Tranquil Oasis in the Heart of Berlin                                               |    6100 | month      |       3 |        5 | https://wunderflatsng.blob.core.windows.net/imagesproduction/lXb4VHHwd1U45FHKCfT1C-original | /en/furnished-apartment/elegant-room-in-berlin-friedrichshain/678fa82534cc52b178eac06d?from=2025-05-06&to=2026-04-03&minSize=80&dataLayerKey=Lrii3xCn6eMmv0IpPR_BV |    145 |\n",
      "| 13 | 65dc98f45f265a3aa700c428 | Pretty luxurious Loft in Rummelsburg                                                                                                         |    4200 | month      |       4 |        6 | https://wunderflatsng.blob.core.windows.net/imagesproduction/lXb4VHHwd1U45FHKCfT1C-original | /en/furnished-apartment/elegant-room-in-berlin-friedrichshain/678fa82534cc52b178eac06d?from=2025-05-06&to=2026-04-03&minSize=80&dataLayerKey=Lrii3xCn6eMmv0IpPR_BV |    260 |\n",
      "| 14 | 62384b6aca540b739dc8a3f0 | Beautiful new build roof top one  bedroom apartment in Alt-Treptow                                                                           |    2040 | month      |       2 |        2 | https://wunderflatsng.blob.core.windows.net/imagesproduction/lXb4VHHwd1U45FHKCfT1C-original | /en/furnished-apartment/elegant-room-in-berlin-friedrichshain/678fa82534cc52b178eac06d?from=2025-05-06&to=2026-04-03&minSize=80&dataLayerKey=Lrii3xCn6eMmv0IpPR_BV |    103 |\n",
      "| 15 | 60b8c2a4fc559e0008a96862 | Large, bright & family-friendly apartment in Berlin-Lichtenberg                                                                              |    2150 | month      |       3 |        4 | https://wunderflatsng.blob.core.windows.net/imagesproduction/lXb4VHHwd1U45FHKCfT1C-original | /en/furnished-apartment/elegant-room-in-berlin-friedrichshain/678fa82534cc52b178eac06d?from=2025-05-06&to=2026-04-03&minSize=80&dataLayerKey=Lrii3xCn6eMmv0IpPR_BV |     87 |\n",
      "| 16 | 5d2f40235809d200061fae58 | MODERN TWO-BEDROOM APARTMENT IN TRENDY FRIEDRICHSHAIN BERLIN                                                                                 |    2490 | month      |       3 |        4 | https://wunderflatsng.blob.core.windows.net/imagesproduction/lXb4VHHwd1U45FHKCfT1C-original | /en/furnished-apartment/elegant-room-in-berlin-friedrichshain/678fa82534cc52b178eac06d?from=2025-05-06&to=2026-04-03&minSize=80&dataLayerKey=Lrii3xCn6eMmv0IpPR_BV |     86 |\n",
      "| 17 | 66b2767f86a6b168996f34bd | Unique Residential and Commercial Building: Historic Charm Meets Modern Elegance                                                             |    2770 | month      |       3 |        2 | https://wunderflatsng.blob.core.windows.net/imagesproduction/lXb4VHHwd1U45FHKCfT1C-original | /en/furnished-apartment/elegant-room-in-berlin-friedrichshain/678fa82534cc52b178eac06d?from=2025-05-06&to=2026-04-03&minSize=80&dataLayerKey=Lrii3xCn6eMmv0IpPR_BV |     80 |\n",
      "| 18 | 637fa4af7a79558df6683674 | Designer 3-room apartment + balcony best location Friedrichshain Boxhagener Platz Warschauer Str Samariterstr Frankfurter Allee U1/3/4/5 M10 |    2999 | month      |       3 |        4 | https://wunderflatsng.blob.core.windows.net/imagesproduction/lXb4VHHwd1U45FHKCfT1C-original | /en/furnished-apartment/elegant-room-in-berlin-friedrichshain/678fa82534cc52b178eac06d?from=2025-05-06&to=2026-04-03&minSize=80&dataLayerKey=Lrii3xCn6eMmv0IpPR_BV |     98 |\n",
      "| 19 | 66d1bd517b00825004a99bf0 | Luxurious 3 room apartment in Kreuzkölln                                                                                                     |    3250 | month      |       3 |        4 | https://wunderflatsng.blob.core.windows.net/imagesproduction/lXb4VHHwd1U45FHKCfT1C-original | /en/furnished-apartment/elegant-room-in-berlin-friedrichshain/678fa82534cc52b178eac06d?from=2025-05-06&to=2026-04-03&minSize=80&dataLayerKey=Lrii3xCn6eMmv0IpPR_BV |    106 |\n",
      "| 20 | 63b1c1bfc7e90cc508b4a785 | Spacious Design Apartment | Xberg/Friedrichshain                                                                                             |    2850 | month      |       3 |        4 | https://wunderflatsng.blob.core.windows.net/imagesproduction/lXb4VHHwd1U45FHKCfT1C-original | /en/furnished-apartment/elegant-room-in-berlin-friedrichshain/678fa82534cc52b178eac06d?from=2025-05-06&to=2026-04-03&minSize=80&dataLayerKey=Lrii3xCn6eMmv0IpPR_BV |    120 |\n",
      "| 21 | 654e0d960e9a99ea840c2768 | Spacious 2-bedrooom flat close to Ostkreuz in Neubau                                                                                         |    2450 | month      |       3 |        3 | https://wunderflatsng.blob.core.windows.net/imagesproduction/lXb4VHHwd1U45FHKCfT1C-original | /en/furnished-apartment/elegant-room-in-berlin-friedrichshain/678fa82534cc52b178eac06d?from=2025-05-06&to=2026-04-03&minSize=80&dataLayerKey=Lrii3xCn6eMmv0IpPR_BV |     86 |\n",
      "| 22 | 65155d5c7527a7c1a29e7dcf | Co-living: Private room in bright rooftop apartment studio in excellent location at Ostkreuz, Friedrichshain (shared place)                  |    1450 | month      |       1 |        2 | https://wunderflatsng.blob.core.windows.net/imagesproduction/lXb4VHHwd1U45FHKCfT1C-original | /en/furnished-apartment/elegant-room-in-berlin-friedrichshain/678fa82534cc52b178eac06d?from=2025-05-06&to=2026-04-03&minSize=80&dataLayerKey=Lrii3xCn6eMmv0IpPR_BV |    100 |\n",
      "| 23 | 5bfc6c44b664f500056b7502 | Neat loft in vibrant neighbourhood of Berlin-Kreuzberg                                                                                       |    2290 | month      |       3 |        2 | https://wunderflatsng.blob.core.windows.net/imagesproduction/lXb4VHHwd1U45FHKCfT1C-original | /en/furnished-apartment/elegant-room-in-berlin-friedrichshain/678fa82534cc52b178eac06d?from=2025-05-06&to=2026-04-03&minSize=80&dataLayerKey=Lrii3xCn6eMmv0IpPR_BV |     85 |\n",
      "| 24 | 673e13d586e388bc6a7749bf | Stylish Apartment with Vintage Flair straight at Boxhagener Platz                                                                            |    2750 | month      |       3 |        3 | https://wunderflatsng.blob.core.windows.net/imagesproduction/lXb4VHHwd1U45FHKCfT1C-original | /en/furnished-apartment/elegant-room-in-berlin-friedrichshain/678fa82534cc52b178eac06d?from=2025-05-06&to=2026-04-03&minSize=80&dataLayerKey=Lrii3xCn6eMmv0IpPR_BV |     98 |\n",
      "| 25 | 670fba0dfa2180d6cfd677a8 | High-quality new-build apartment in a prime location - fully furnished and ready to move into from November 1                                |    2950 | month      |       3 |        3 | https://wunderflatsng.blob.core.windows.net/imagesproduction/lXb4VHHwd1U45FHKCfT1C-original | /en/furnished-apartment/elegant-room-in-berlin-friedrichshain/678fa82534cc52b178eac06d?from=2025-05-06&to=2026-04-03&minSize=80&dataLayerKey=Lrii3xCn6eMmv0IpPR_BV |     92 |\n",
      "| 26 | 659078cff45a9338a8f9f19b | Perfect, fashionable home                                                                                                                    |    3000 | month      |       3 |        4 | https://wunderflatsng.blob.core.windows.net/imagesproduction/lXb4VHHwd1U45FHKCfT1C-original | /en/furnished-apartment/elegant-room-in-berlin-friedrichshain/678fa82534cc52b178eac06d?from=2025-05-06&to=2026-04-03&minSize=80&dataLayerKey=Lrii3xCn6eMmv0IpPR_BV |     85 |\n",
      "| 27 | 5d72131469cc21000725717c | Interior design apartment with garden on the Rummelsburger bay                                                                               |    2450 | month      |       3 |        4 | https://wunderflatsng.blob.core.windows.net/imagesproduction/lXb4VHHwd1U45FHKCfT1C-original | /en/furnished-apartment/elegant-room-in-berlin-friedrichshain/678fa82534cc52b178eac06d?from=2025-05-06&to=2026-04-03&minSize=80&dataLayerKey=Lrii3xCn6eMmv0IpPR_BV |     80 |\n",
      "| 28 | 63481152fab5f77039652e44 | Modern apartment |X-Berg| Home Office | Terrace | eat-in kitchen |                                                                           |    2095 | month      |       2 |        4 | https://wunderflatsng.blob.core.windows.net/imagesproduction/lXb4VHHwd1U45FHKCfT1C-original | /en/furnished-apartment/elegant-room-in-berlin-friedrichshain/678fa82534cc52b178eac06d?from=2025-05-06&to=2026-04-03&minSize=80&dataLayerKey=Lrii3xCn6eMmv0IpPR_BV |     83 |\n",
      "| 29 | 66c359407e93e77ee9bc7135 | Wonderful, great studio in Friedrichshain                                                                                                    |    3500 | month      |       4 |        5 | https://wunderflatsng.blob.core.windows.net/imagesproduction/lXb4VHHwd1U45FHKCfT1C-original | /en/furnished-apartment/elegant-room-in-berlin-friedrichshain/678fa82534cc52b178eac06d?from=2025-05-06&to=2026-04-03&minSize=80&dataLayerKey=Lrii3xCn6eMmv0IpPR_BV |    130 |\n",
      "| 30 | 5e874c4bb0ecef000604f350 | Very modern 4-room apartment with 2 bedrooms and kitchen island in Lichtenberg                                                               |    3150 | month      |       4 |        4 | https://wunderflatsng.blob.core.windows.net/imagesproduction/lXb4VHHwd1U45FHKCfT1C-original | /en/furnished-apartment/elegant-room-in-berlin-friedrichshain/678fa82534cc52b178eac06d?from=2025-05-06&to=2026-04-03&minSize=80&dataLayerKey=Lrii3xCn6eMmv0IpPR_BV |    110 |\n",
      "| 31 | 5e203844befde50006d39e54 | Beautiful 80sqm Altbau Apartment in Friedrichshain near Boxhagener Platz                                                                     |    2300 | month      |       2 |        2 | https://wunderflatsng.blob.core.windows.net/imagesproduction/lXb4VHHwd1U45FHKCfT1C-original | /en/furnished-apartment/elegant-room-in-berlin-friedrichshain/678fa82534cc52b178eac06d?from=2025-05-06&to=2026-04-03&minSize=80&dataLayerKey=Lrii3xCn6eMmv0IpPR_BV |     80 |\n",
      "| 32 | 603d17a1b560c8000859eb07 | Exclusive roof terrace loft at the East Side Gallery                                                                                         |    4600 | month      |       3 |        2 | https://wunderflatsng.blob.core.windows.net/imagesproduction/lXb4VHHwd1U45FHKCfT1C-original | /en/furnished-apartment/elegant-room-in-berlin-friedrichshain/678fa82534cc52b178eac06d?from=2025-05-06&to=2026-04-03&minSize=80&dataLayerKey=Lrii3xCn6eMmv0IpPR_BV |    132 |\n",
      "| 33 | 618e6f208e00ab0007e8c620 | Lovely, modern home in Friedrichshain directly at the waterfront!                                                                            |    3780 | month      |       2 |        2 | https://wunderflatsng.blob.core.windows.net/imagesproduction/lXb4VHHwd1U45FHKCfT1C-original | /en/furnished-apartment/elegant-room-in-berlin-friedrichshain/678fa82534cc52b178eac06d?from=2025-05-06&to=2026-04-03&minSize=80&dataLayerKey=Lrii3xCn6eMmv0IpPR_BV |    102 |\n",
      "| 34 | 6528081681c813bbdcb2d4fd | Beautiful & nice flat with a Garden in Rummelsburg (Berlin)                                                                                  |    2770 | month      |       3 |        4 | https://wunderflatsng.blob.core.windows.net/imagesproduction/lXb4VHHwd1U45FHKCfT1C-original | /en/furnished-apartment/elegant-room-in-berlin-friedrichshain/678fa82534cc52b178eac06d?from=2025-05-06&to=2026-04-03&minSize=80&dataLayerKey=Lrii3xCn6eMmv0IpPR_BV |     85 |\n",
      "| 35 | 5cc1a0d0a596ff0006e314b8 | Stunning & spacious Altbau apartment in fantastic Friedrichshain                                                                             |    2350 | month      |       3 |        3 | https://wunderflatsng.blob.core.windows.net/imagesproduction/lXb4VHHwd1U45FHKCfT1C-original | /en/furnished-apartment/elegant-room-in-berlin-friedrichshain/678fa82534cc52b178eac06d?from=2025-05-06&to=2026-04-03&minSize=80&dataLayerKey=Lrii3xCn6eMmv0IpPR_BV |     80 |\n",
      "| 36 | 6759b49236691444337a11ad | Great studio in Friedrichshain                                                                                                               |    2800 | month      |       2 |        3 | https://wunderflatsng.blob.core.windows.net/imagesproduction/lXb4VHHwd1U45FHKCfT1C-original | /en/furnished-apartment/elegant-room-in-berlin-friedrichshain/678fa82534cc52b178eac06d?from=2025-05-06&to=2026-04-03&minSize=80&dataLayerKey=Lrii3xCn6eMmv0IpPR_BV |    127 |\n"
     ]
    }
   ],
   "source": [
    "print(body)"
   ]
  },
  {
   "cell_type": "code",
   "execution_count": null,
   "id": "90d00735-4b11-4c43-b002-483ff29eadcd",
   "metadata": {},
   "outputs": [],
   "source": []
  }
 ],
 "metadata": {
  "kernelspec": {
   "display_name": "Python 3 (ipykernel)",
   "language": "python",
   "name": "python3"
  },
  "language_info": {
   "codemirror_mode": {
    "name": "ipython",
    "version": 3
   },
   "file_extension": ".py",
   "mimetype": "text/x-python",
   "name": "python",
   "nbconvert_exporter": "python",
   "pygments_lexer": "ipython3",
   "version": "3.12.6"
  }
 },
 "nbformat": 4,
 "nbformat_minor": 5
}
