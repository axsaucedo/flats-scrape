{
 "cells": [
  {
   "cell_type": "code",
   "execution_count": 1,
   "id": "603c7826-6abc-44a4-91ce-689fa617448f",
   "metadata": {},
   "outputs": [],
   "source": [
    "import requests"
   ]
  },
  {
   "cell_type": "code",
   "execution_count": 6,
   "id": "f114f17f-7ef8-4204-9f02-4920304327e2",
   "metadata": {},
   "outputs": [],
   "source": [
    "from bs4 import BeautifulSoup"
   ]
  },
  {
   "cell_type": "code",
   "execution_count": 43,
   "id": "0c38e57f-26f1-4d5e-8026-36aec3b51dcf",
   "metadata": {},
   "outputs": [],
   "source": [
    "query = \"?from=2025-05-06&to=2026-04-03&scoreVariant=A&bbox=13.439029194122513%2C52.51287794429001%2C13.500998951202591%2C52.48638676462957&minSize=80\""
   ]
  },
  {
   "cell_type": "code",
   "execution_count": 44,
   "id": "d3ccae2f-04fa-4ba1-b27e-71f75aeb4296",
   "metadata": {},
   "outputs": [],
   "source": [
    "base = \"https://wunderflats.com/en/furnished-apartments/berlin\""
   ]
  },
  {
   "cell_type": "code",
   "execution_count": 50,
   "id": "04049b20-8e4b-41cf-9e25-3db73c3ac03f",
   "metadata": {},
   "outputs": [],
   "source": [
    "page = \"/1\""
   ]
  },
  {
   "cell_type": "code",
   "execution_count": 51,
   "id": "5c372a6f-d713-4a57-a254-411737114345",
   "metadata": {},
   "outputs": [],
   "source": [
    "url = f\"{base}{page}{query}\""
   ]
  },
  {
   "cell_type": "code",
   "execution_count": 4,
   "id": "5155e82f-9412-44fa-b76a-cad587431c94",
   "metadata": {},
   "outputs": [],
   "source": [
    "r = requests.get(url)"
   ]
  },
  {
   "cell_type": "code",
   "execution_count": 40,
   "id": "6b251de6-0e45-4ef5-8e52-7210a7fcae25",
   "metadata": {},
   "outputs": [
    {
     "data": {
      "text/plain": [
       "200"
      ]
     },
     "execution_count": 40,
     "metadata": {},
     "output_type": "execute_result"
    }
   ],
   "source": [
    "r.status_code"
   ]
  },
  {
   "cell_type": "code",
   "execution_count": null,
   "id": "31b69ce1-c8e1-48e1-a85d-7acb6958b205",
   "metadata": {},
   "outputs": [],
   "source": [
    "\n",
    "\n",
    "i = 0\n",
    "while True:\n",
    "    soup = BeautifulSoup(r.text, \"html.parser\")\n",
    "    listings = soup.select(\"div.ListingsList-item\")"
   ]
  },
  {
   "cell_type": "code",
   "execution_count": 8,
   "id": "81c4f0a3-2e62-446b-b7a1-b238f8482dab",
   "metadata": {},
   "outputs": [],
   "source": [
    "soup = BeautifulSoup(r.text, \"html.parser\")"
   ]
  },
  {
   "cell_type": "code",
   "execution_count": 9,
   "id": "98dc6e77-11d2-4ba7-bdf2-930da3fde5ef",
   "metadata": {},
   "outputs": [],
   "source": [
    "listings = soup.select(\"div.ListingsList-item\")"
   ]
  },
  {
   "cell_type": "code",
   "execution_count": 39,
   "id": "b26a47ff-f3b2-4599-b6a9-f912cfc24540",
   "metadata": {},
   "outputs": [
    {
     "data": {
      "text/plain": [
       "30"
      ]
     },
     "execution_count": 39,
     "metadata": {},
     "output_type": "execute_result"
    }
   ],
   "source": [
    "len(listings)"
   ]
  },
  {
   "cell_type": "code",
   "execution_count": 11,
   "id": "91442b57-3f60-4b24-8616-2cc467933401",
   "metadata": {},
   "outputs": [],
   "source": [
    "listing = listings[0]"
   ]
  },
  {
   "cell_type": "code",
   "execution_count": 12,
   "id": "d8e171a0-c359-4083-8081-74a10e2e452a",
   "metadata": {},
   "outputs": [
    {
     "data": {
      "text/plain": [
       "<div class=\"ListingsList-item\"><article class=\"Listing\" data-groupid=\"HrDL1xpTGxel2ZI5kWG1F\" data-testid=\"Listing\"><div class=\"Listing-ImageGallery\"><a class=\"Listing-ImageGallery-link\" data-listing=\"678fa82534cc52b178eac06d\" href=\"/en/furnished-apartment/elegant-room-in-berlin-friedrichshain/678fa82534cc52b178eac06d?from=2025-05-06&amp;to=2026-04-03&amp;minSize=80&amp;dataLayerKey=wsn73Xzv4KutSPPCud8ov\" target=\"_blank\" title=\"Elegant room in Berlin Friedrichshain!\"></a><div class=\"ImageGallery\"><div><figure class=\"CoverImage ImageGallery-container\"><img alt=\"\" class=\"CoverImage CoverImage-image\" loading=\"eager\" sizes=\" (min-width: 680px) 370px, 90vw\" src=\"https://wunderflatsng.blob.core.windows.net/imagesproduction/lXb4VHHwd1U45FHKCfT1C-original\" srcset=\"https://wunderflatsng.blob.core.windows.net/imagesproduction/lXb4VHHwd1U45FHKCfT1C-thumbnail.jpg 370w, https://wunderflatsng.blob.core.windows.net/imagesproduction/lXb4VHHwd1U45FHKCfT1C-small.jpg 640w, https://wunderflatsng.blob.core.windows.net/imagesproduction/lXb4VHHwd1U45FHKCfT1C-medium.jpg 1024w, https://wunderflatsng.blob.core.windows.net/imagesproduction/lXb4VHHwd1U45FHKCfT1C-large.jpg 1280w\"/><div class=\"ImageGallery-navButtonsOuter\"><button class=\"ImageGallery-navButton ImageGallery-navButton--left\"><img alt=\"Previous\" src=\"/public/images/gallery-nav-prev-icon.svg\"/></button><button class=\"ImageGallery-navButton ImageGallery-navButton--right\"><img alt=\"Next\" src=\"/public/images/gallery-nav-next-icon.svg\"/></button></div></figure></div></div></div><div class=\"Listing-description\"><a class=\"Listing-link\" data-listing=\"678fa82534cc52b178eac06d\" href=\"/en/furnished-apartment/elegant-room-in-berlin-friedrichshain/678fa82534cc52b178eac06d?from=2025-05-06&amp;to=2026-04-03&amp;minSize=80&amp;dataLayerKey=wsn73Xzv4KutSPPCud8ov\" target=\"_blank\" title=\"Elegant room in Berlin Friedrichshain!\"></a><h3 class=\"Listing-descriptionTitle\">Elegant room in Berlin Friedrichshain!</h3><strong class=\"ListingPrice ListingPrice--light\"><span class=\"ListingPrice-price\">€999</span><small class=\"ListingPrice-time\">per month</small></strong><div class=\"Listing-details\"><div class=\"ListingDetailsBrief\"><span class=\"info\">1 Room</span><span class=\"info\">1 adult</span><span class=\"info ListingDetailsBrief-info--area\">120<!-- --> m²</span></div></div></div></article></div>"
      ]
     },
     "execution_count": 12,
     "metadata": {},
     "output_type": "execute_result"
    }
   ],
   "source": [
    "listing"
   ]
  },
  {
   "cell_type": "markdown",
   "id": "b3cfb525-f51f-4133-b74c-185077bac7fd",
   "metadata": {},
   "source": [
    "# Next URL"
   ]
  },
  {
   "cell_type": "code",
   "execution_count": 18,
   "id": "b5ab3cca-df7b-4b73-b613-137782a18da9",
   "metadata": {},
   "outputs": [],
   "source": [
    "url2 = f\"https://wunderflats.com{listing.find(\"a\").get(\"href\")}\""
   ]
  },
  {
   "cell_type": "code",
   "execution_count": 19,
   "id": "d32ef066-59f3-4be3-a750-2526ea12a3bb",
   "metadata": {},
   "outputs": [],
   "source": [
    "r2 = requests.get(url2)"
   ]
  },
  {
   "cell_type": "code",
   "execution_count": 21,
   "id": "66566896-dfb1-4cc5-8871-339db6bc68c6",
   "metadata": {},
   "outputs": [],
   "source": [
    "soup2 = BeautifulSoup(r2.text, 'html.parser')"
   ]
  },
  {
   "cell_type": "markdown",
   "id": "1280d14b-6707-425a-9165-44efeb78a88a",
   "metadata": {},
   "source": [
    "# Info per listing in list"
   ]
  },
  {
   "cell_type": "code",
   "execution_count": 38,
   "id": "74182762-ceb5-49de-b859-32a1d5b1d7a9",
   "metadata": {},
   "outputs": [
    {
     "data": {
      "text/plain": [
       "'678fa82534cc52b178eac06d'"
      ]
     },
     "execution_count": 38,
     "metadata": {},
     "output_type": "execute_result"
    }
   ],
   "source": [
    "listing.find(\"a\").get(\"data-listing\")"
   ]
  },
  {
   "cell_type": "code",
   "execution_count": 27,
   "id": "5c8c673e-5aeb-4beb-9b6c-7404ba0c58f7",
   "metadata": {},
   "outputs": [
    {
     "data": {
      "text/plain": [
       "'Elegant room in Berlin Friedrichshain!'"
      ]
     },
     "execution_count": 27,
     "metadata": {},
     "output_type": "execute_result"
    }
   ],
   "source": [
    "listing.find(\"h3\").text"
   ]
  },
  {
   "cell_type": "code",
   "execution_count": 33,
   "id": "a08c019c-f957-4f0b-86ef-c629231e0e36",
   "metadata": {},
   "outputs": [
    {
     "data": {
      "text/plain": [
       "'€999'"
      ]
     },
     "execution_count": 33,
     "metadata": {},
     "output_type": "execute_result"
    }
   ],
   "source": [
    "listing.find(\"span\", class_=\"ListingPrice-price\").text"
   ]
  },
  {
   "cell_type": "code",
   "execution_count": 35,
   "id": "aed47690-b1c0-4570-9742-128591b7afc7",
   "metadata": {},
   "outputs": [
    {
     "data": {
      "text/plain": [
       "'per month'"
      ]
     },
     "execution_count": 35,
     "metadata": {},
     "output_type": "execute_result"
    }
   ],
   "source": [
    "listing.find(\"small\", class_=\"ListingPrice-time\").text"
   ]
  },
  {
   "cell_type": "code",
   "execution_count": 36,
   "id": "eac5f9f6-c362-4b02-bde5-e33ba50d06d7",
   "metadata": {},
   "outputs": [
    {
     "data": {
      "text/plain": [
       "[<span class=\"info\">1 Room</span>,\n",
       " <span class=\"info\">1 adult</span>,\n",
       " <span class=\"info ListingDetailsBrief-info--area\">120<!-- --> m²</span>]"
      ]
     },
     "execution_count": 36,
     "metadata": {},
     "output_type": "execute_result"
    }
   ],
   "source": [
    "listing.find_all(\"span\", class_=\"info\")"
   ]
  },
  {
   "cell_type": "code",
   "execution_count": null,
   "id": "1474c253-f05c-42e7-8671-5ce38ca4bc40",
   "metadata": {},
   "outputs": [],
   "source": []
  }
 ],
 "metadata": {
  "kernelspec": {
   "display_name": "Python 3 (ipykernel)",
   "language": "python",
   "name": "python3"
  },
  "language_info": {
   "codemirror_mode": {
    "name": "ipython",
    "version": 3
   },
   "file_extension": ".py",
   "mimetype": "text/x-python",
   "name": "python",
   "nbconvert_exporter": "python",
   "pygments_lexer": "ipython3",
   "version": "3.12.6"
  }
 },
 "nbformat": 4,
 "nbformat_minor": 5
}
